{
 "cells": [
  {
   "cell_type": "markdown",
   "metadata": {
    "id": "l5596cR-v06r"
   },
   "source": [
    "# INM707 Coursework - Task 1\n",
    "Selim Bayrak / 200056225 & Kristina Semenyuk / 200036364"
   ]
  },
  {
   "attachments": {},
   "cell_type": "markdown",
   "metadata": {
    "id": "OAtYAaP4wi-h"
   },
   "source": [
    "### Rooms Environment\n",
    "\n",
    "The game is played on a square grid where the length of one side is parameterizable. The aim of the game is to challenge the agent to find the quickest route to the goal from a random starting point. The Agent will have several obstacles in its way of reaching the optimal solution including walls, tornados and limited number of moves, defined by time limit.\n",
    "The grid is divided into 4 rooms in the middle, with connecting doors. The door positions are initialised randomly when the grid is created.\n",
    "There are 2 goals, a sub-optimal goal with a positive reward and an optimal goal more reward. These are placed randomly around the grid if \"testing\" argument is set to \"False\" during the initialisation. If testing is set to \"True\", then sub-optimal goal starts in the upper left room (room 1) and optimal-goal starts in the upper right room (room 2), placed in a random position within the room.\n",
    "There are also tornados, their number depending on the grid size, placed randomly within the grid. At every step of time, they move randomly within the grid. If the agent goes to a cell with a tornado, the episode terminates. Episode also terminates when the time limit is reached or if the agent reaches one of the goals. \n",
    "The agent receives negative rewards for bumping the walls or getting caught by a tornado. \n",
    "\n",
    "\n"
   ]
  },
  {
   "cell_type": "code",
   "execution_count": 1,
   "metadata": {
    "id": "KRou1GQV9TmM"
   },
   "outputs": [],
   "source": [
    "from rooms import Rooms"
   ]
  },
  {
   "cell_type": "code",
   "execution_count": 20,
   "metadata": {},
   "outputs": [
    {
     "name": "stdout",
     "output_type": "stream",
     "text": [
      "X X X X X X X X X X X\n",
      "X . . . . X . . . . X\n",
      "X g . . . X . G . A X\n",
      "X . . . . . . . . . X\n",
      "X . . . . X . . . . X\n",
      "X X X T X X X X X . X\n",
      "X . . . . . . . . . X\n",
      "X . . . . X . . . . X\n",
      "X . . . . X . . . . X\n",
      "X . . . . X . . . . X\n",
      "X X X X X X X X X X X\n",
      "\n"
     ]
    }
   ],
   "source": [
    "grid = Rooms(11, testing=False)\n",
    "grid.reset()\n",
    "grid.display()"
   ]
  },
  {
   "cell_type": "markdown",
   "metadata": {},
   "source": [
    "g: Sub-optimal Goal<br>\n",
    "G: Optimal Goal<br>\n",
    "A: Agent<br>\n",
    "X: Wall/obstacle<br>\n",
    "T: Tornado<br>\n",
    ".: Empty cell<br>"
   ]
  },
  {
   "cell_type": "code",
   "execution_count": 26,
   "metadata": {
    "colab": {
     "base_uri": "https://localhost:8080/",
     "height": 1000
    },
    "id": "5LXfn6l191D4",
    "outputId": "712d7832-ebd4-4a85-cbf1-3b6c0f6f5126"
   },
   "outputs": [
    {
     "name": "stdout",
     "output_type": "stream",
     "text": [
      "X X X X X X X X X X X\n",
      "X . . . . X . . . . X\n",
      "X . . . . X . . . . X\n",
      "X . . . . T . . . G X\n",
      "X . . . g X . . . . X\n",
      "X . X X X X . X X X X\n",
      "X . . . . A . . . . X\n",
      "X . . . . X . . . . X\n",
      "X . . . . X . . . . X\n",
      "X . . . . X . . . . X\n",
      "X X X X X X X X X X X\n",
      "\n"
     ]
    }
   ],
   "source": [
    "grid = Rooms(11, testing=True)\n",
    "grid.reset(agent_start_pos='middle')\n",
    "grid.display()"
   ]
  },
  {
   "cell_type": "code",
   "execution_count": 28,
   "metadata": {},
   "outputs": [
    {
     "name": "stdout",
     "output_type": "stream",
     "text": [
      "X X X X X X X X X X X\n",
      "X . . . . X . . . . X\n",
      "X . . . . X . . . . X\n",
      "X . . . . . . . . G X\n",
      "X . . . g X . . . . X\n",
      "X . X X X X . X X X X\n",
      "X A T . . . . . . . X\n",
      "X . . . . X . . . . X\n",
      "X . . . . X . . . . X\n",
      "X . . . . X . . . . X\n",
      "X X X X X X X X X X X\n",
      "\n"
     ]
    }
   ],
   "source": [
    "grid.reset(agent_start_pos='close_to_sub')\n",
    "grid.display()"
   ]
  },
  {
   "cell_type": "code",
   "execution_count": 31,
   "metadata": {},
   "outputs": [
    {
     "name": "stdout",
     "output_type": "stream",
     "text": [
      "X X X X X X X X X X X\n",
      "X . . . . X . . . . X\n",
      "X . . . . X . . . . X\n",
      "X . . . . . . . . G X\n",
      "X . . . g X . . . . X\n",
      "X . X X X X . X X X X\n",
      "X . . . . . . . . . X\n",
      "X . . . . X . . . . X\n",
      "X . . . . X . . A . X\n",
      "X . T . . X . . . . X\n",
      "X X X X X X X X X X X\n",
      "\n"
     ]
    }
   ],
   "source": [
    "grid.reset(agent_start_pos='close_to_opt')\n",
    "grid.display()"
   ]
  },
  {
   "cell_type": "code",
   "execution_count": 32,
   "metadata": {
    "colab": {
     "base_uri": "https://localhost:8080/",
     "height": 247
    },
    "id": "N-5_uKCvzEow",
    "outputId": "03da5a04-3280-4d3f-b5aa-dce25b9700c8"
   },
   "outputs": [
    {
     "name": "stdout",
     "output_type": "stream",
     "text": [
      "X X X X X X X X X X X\n",
      "X . . . . X . . . . X\n",
      "X . . . . X . . . . X\n",
      "X . . . . . . . . G X\n",
      "X . . . g X . . . . X\n",
      "X . X X X X . X X X X\n",
      "X . . . . . . . . . X\n",
      "X . . . . X . . . . X\n",
      "X . . . . X . . . A X\n",
      "X . . T . X . . . . X\n",
      "X X X X X X X X X X X\n",
      "\n"
     ]
    }
   ],
   "source": [
    "next_cell = grid.move(grid.agent_position, action=\"right\")\n",
    "state, reward, done = grid.step(next_cell)\n",
    "grid.display()"
   ]
  },
  {
   "cell_type": "markdown",
   "metadata": {},
   "source": [
    "We have seperated move() and step() functions because move() function is also being used to move the tornados.  "
   ]
  },
  {
   "cell_type": "code",
   "execution_count": 34,
   "metadata": {},
   "outputs": [
    {
     "name": "stdout",
     "output_type": "stream",
     "text": [
      "State: 11839, Reward: -1, Done: False\n"
     ]
    }
   ],
   "source": [
    "print(f\"State: {state}, Reward: {reward}, Done: {done}\")"
   ]
  },
  {
   "cell_type": "code",
   "execution_count": 35,
   "metadata": {},
   "outputs": [
    {
     "name": "stdout",
     "output_type": "stream",
     "text": [
      "X X X X X X X X X X X\n",
      "X . . . . X . . . . X\n",
      "X . . . . X . . . . X\n",
      "X . . . . . . . . G X\n",
      "X . . . g X . . . . X\n",
      "X . X X X X . X X X X\n",
      "X . . . . . . . . . X\n",
      "X . . . . X . . . A X\n",
      "X . . . . X . . . . X\n",
      "X . T . . X . . . . X\n",
      "X X X X X X X X X X X\n",
      "\n"
     ]
    }
   ],
   "source": [
    "next_cell = grid.move(grid.agent_position, action=\"up\")\n",
    "state, reward, done = grid.step(next_cell)\n",
    "grid.display()"
   ]
  },
  {
   "cell_type": "code",
   "execution_count": 36,
   "metadata": {},
   "outputs": [
    {
     "name": "stdout",
     "output_type": "stream",
     "text": [
      "State: 10507, Reward: -1, Done: False\n"
     ]
    }
   ],
   "source": [
    "print(f\"State: {state}, Reward: {reward}, Done: {done}\")"
   ]
  },
  {
   "cell_type": "markdown",
   "metadata": {},
   "source": [
    "Please note if the tornado chooses randomly to go to a cell with an obstacle, it stays in place. "
   ]
  }
 ],
 "metadata": {
  "accelerator": "GPU",
  "colab": {
   "collapsed_sections": [],
   "name": "Task_1.ipynb",
   "provenance": []
  },
  "kernelspec": {
   "display_name": "Python 3",
   "language": "python",
   "name": "python3"
  },
  "language_info": {
   "codemirror_mode": {
    "name": "ipython",
    "version": 3
   },
   "file_extension": ".py",
   "mimetype": "text/x-python",
   "name": "python",
   "nbconvert_exporter": "python",
   "pygments_lexer": "ipython3",
   "version": "3.8.5"
  }
 },
 "nbformat": 4,
 "nbformat_minor": 1
}
